{
  "nbformat": 4,
  "nbformat_minor": 0,
  "metadata": {
    "colab": {
      "provenance": []
    },
    "kernelspec": {
      "name": "python3",
      "display_name": "Python 3"
    },
    "language_info": {
      "name": "python"
    }
  },
  "cells": [
    {
      "cell_type": "markdown",
      "source": [
        "# ML - Problem Set 2: Predicting Poverty\n",
        "\n",
        "El objetivo principal es construir un modelo predictivo de la pobreza de los hogares. Nótese que un hogar se clasifica como\n",
        "\n",
        "\\begin{equation}\n",
        "    Poor = I \\left( Inc < Pl \\right)\n",
        "\\end{equation}\n",
        "\n",
        "donde $I$ es una función indicadora que toma uno si el ingreso familiar está por debajo de una determinada línea de pobreza."
      ],
      "metadata": {
        "id": "3tH154dXq2df"
      }
    },
    {
      "cell_type": "code",
      "execution_count": 1,
      "metadata": {
        "id": "57HpxY2Iq0cO"
      },
      "outputs": [],
      "source": [
        "# Importar librerias\n",
        "import pandas as pd\n",
        "import numpy as np\n",
        "from sklearn.impute import SimpleImputer"
      ]
    },
    {
      "cell_type": "code",
      "source": [
        "# Importar datos\n",
        "\n",
        "df_1 = pd.read_csv('sample_submission.csv')\n",
        "df_2 = pd.read_csv('test_hogares.csv')\n",
        "df_3 = pd.read_csv('test_personas.csv')\n",
        "df_4 = pd.read_csv('train_hogares.csv')\n",
        "df_5 = pd.read_csv('train_personas.csv')"
      ],
      "metadata": {
        "id": "ea5SW6xrrDY8"
      },
      "execution_count": 2,
      "outputs": []
    },
    {
      "cell_type": "code",
      "source": [
        "# Renombrar columnas antes de combinar\n",
        "df_4 = df_4.rename(columns={'Clase': 'Clase_hogar', 'Dominio': 'Dominio_hogar'})\n",
        "df_5 = df_5.rename(columns={'Clase': 'Clase_persona', 'Dominio': 'Dominio_persona'})\n",
        "\n",
        "# Luego combinar\n",
        "train_combined = pd.merge(df_4, df_5, on='id', how='inner')\n",
        "\n",
        "# Combinar datos de prueba\n",
        "test_combined = pd.merge(df_2, df_3, on='id', how='inner')"
      ],
      "metadata": {
        "id": "WCqU-ZZdOWmD"
      },
      "execution_count": 3,
      "outputs": []
    },
    {
      "cell_type": "code",
      "source": [
        "print(\"Dimensiones del dataset combinado de entrenamiento:\", train_combined.shape)\n",
        "print(\"Dimensiones del dataset combinado de prueba:\", test_combined.shape)"
      ],
      "metadata": {
        "colab": {
          "base_uri": "https://localhost:8080/"
        },
        "id": "AliEhPclPg1_",
        "outputId": "0e28e623-21bb-4eac-c25f-dd07de5e789d"
      },
      "execution_count": 4,
      "outputs": [
        {
          "output_type": "stream",
          "name": "stdout",
          "text": [
            "Dimensiones del dataset combinado de entrenamiento: (543109, 157)\n",
            "Dimensiones del dataset combinado de prueba: (219644, 78)\n"
          ]
        }
      ]
    },
    {
      "cell_type": "code",
      "source": [
        "# Hogares sin personas asociadas\n",
        "hogares_sin_personas = df_4[~df_4['id'].isin(df_5['id'])]\n",
        "print(\"Número de hogares sin personas asociadas:\", len(hogares_sin_personas))\n",
        "\n",
        "# Personas sin hogares asociados\n",
        "personas_sin_hogares = df_5[~df_5['id'].isin(df_4['id'])]\n",
        "print(\"Número de personas sin hogares asociados:\", len(personas_sin_hogares))"
      ],
      "metadata": {
        "colab": {
          "base_uri": "https://localhost:8080/"
        },
        "id": "mXfoNK3pUdle",
        "outputId": "68131daa-eaca-4df5-e4a6-bc3636b51ac9"
      },
      "execution_count": 5,
      "outputs": [
        {
          "output_type": "stream",
          "name": "stdout",
          "text": [
            "Número de hogares sin personas asociadas: 0\n",
            "Número de personas sin hogares asociados: 0\n"
          ]
        }
      ]
    },
    {
      "cell_type": "code",
      "source": [
        "# Identificar columnas con valores faltantes\n",
        "missing_values = train_combined.isnull().sum()\n",
        "print(\"Valores faltantes por columna:\\n\", missing_values)"
      ],
      "metadata": {
        "colab": {
          "base_uri": "https://localhost:8080/"
        },
        "id": "hG9k5gwaUv1b",
        "outputId": "44ef27af-d96d-47c0-cc80-92d6d3251de8"
      },
      "execution_count": 6,
      "outputs": [
        {
          "output_type": "stream",
          "name": "stdout",
          "text": [
            "Valores faltantes por columna:\n",
            " id                    0\n",
            "Clase_hogar           0\n",
            "Dominio_hogar         0\n",
            "P5000                 0\n",
            "P5010                 0\n",
            "                  ...  \n",
            "Ingtotes         500007\n",
            "Ingtot            95450\n",
            "Fex_c_y               0\n",
            "Depto_y               0\n",
            "Fex_dpto_y            0\n",
            "Length: 157, dtype: int64\n"
          ]
        }
      ]
    },
    {
      "cell_type": "code",
      "source": [
        "# Identificar columnas comunes entre train y test\n",
        "common_columns = train_combined.columns.intersection(test_combined.columns)\n",
        "\n",
        "# Actualizar las columnas numéricas y categóricas basadas en las columnas comunes\n",
        "numeric_columns = train_combined[common_columns].select_dtypes(include=['float64', 'int64']).columns\n",
        "categorical_columns = train_combined[common_columns].select_dtypes(include=['object']).columns\n",
        "\n",
        "# Imputar columnas numéricas con la mediana\n",
        "num_imputer = SimpleImputer(strategy='median')\n",
        "train_combined[numeric_columns] = num_imputer.fit_transform(train_combined[numeric_columns])\n",
        "test_combined[numeric_columns] = num_imputer.transform(test_combined[numeric_columns])  # Usar imputador ajustado\n",
        "\n",
        "# Imputar columnas categóricas con la moda\n",
        "cat_imputer = SimpleImputer(strategy='most_frequent')\n",
        "train_combined[categorical_columns] = cat_imputer.fit_transform(train_combined[categorical_columns])\n",
        "test_combined[categorical_columns] = cat_imputer.transform(test_combined[categorical_columns])  # Usar imputador ajustado"
      ],
      "metadata": {
        "id": "kolS2setUyvo"
      },
      "execution_count": 12,
      "outputs": []
    },
    {
      "cell_type": "code",
      "source": [
        "print(\"Valores faltantes restantes:\\n\", train_combined.isnull().sum().sum())\n",
        "print(\"Valores faltantes restantes:\\n\", test_combined.isnull().sum().sum())"
      ],
      "metadata": {
        "colab": {
          "base_uri": "https://localhost:8080/"
        },
        "id": "Mm53Gs6mYmnx",
        "outputId": "1e9cddd3-7a24-4265-9ee3-d01964b64776"
      },
      "execution_count": 14,
      "outputs": [
        {
          "output_type": "stream",
          "name": "stdout",
          "text": [
            "Valores faltantes restantes:\n",
            " 0\n",
            "Valores faltantes restantes:\n",
            " 0\n"
          ]
        }
      ]
    },
    {
      "cell_type": "code",
      "source": [],
      "metadata": {
        "id": "SG00TEtzZl1L"
      },
      "execution_count": null,
      "outputs": []
    }
  ]
}