{
  "nbformat": 4,
  "nbformat_minor": 0,
  "metadata": {
    "colab": {
      "provenance": []
    },
    "kernelspec": {
      "name": "python3",
      "display_name": "Python 3"
    },
    "language_info": {
      "name": "python"
    }
  },
  "cells": [
    {
      "cell_type": "markdown",
      "source": [
        "# ML - Problem Set 2: Predicting Poverty\n",
        "\n",
        "El objetivo principal es construir un modelo predictivo de la pobreza de los hogares. Nótese que un hogar se clasifica como\n",
        "\n",
        "\\begin{equation}\n",
        "    Poor = I \\left( Inc < Pl \\right)\n",
        "\\end{equation}\n",
        "\n",
        "donde $I$ es una función indicadora que toma uno si el ingreso familiar está por debajo de una determinada línea de pobreza.\n",
        "\n",
        "**texto en negrita**"
      ],
      "metadata": {
        "id": "3tH154dXq2df"
      }
    },
    {
      "cell_type": "code",
      "execution_count": 5,
      "metadata": {
        "id": "57HpxY2Iq0cO"
      },
      "outputs": [],
      "source": [
        "# Importar librerias\n",
        "\n",
        "import pandas as pd\n",
        "from sklearn.impute import SimpleImputer"
      ]
    },
    {
      "cell_type": "code",
      "source": [
        "# Importar datos\n",
        "\n",
        "sample = pd.read_csv('sample_submission.csv')\n",
        "test_hogares = pd.read_csv('test_hogares.csv')\n",
        "train_hogares = pd.read_csv('train_hogares.csv')\n",
        "test_personas = pd.read_csv('test_personas.csv')\n",
        "train_personas = pd.read_csv('train_personas.csv')"
      ],
      "metadata": {
        "id": "ea5SW6xrrDY8"
      },
      "execution_count": 2,
      "outputs": []
    },
    {
      "cell_type": "code",
      "source": [
        "# Limpiar datos\n",
        "\n",
        "common_columns_hogares = train_hogares.columns.intersection(test_hogares.columns) #obtener columnas comunes entre train_hogares y test_hogares\n",
        "common_columns_personas = train_personas.columns.intersection(test_personas.columns) #obtener columnas comunes entre train_personas y test_personas\n",
        "train_hogares = train_hogares[common_columns_hogares] #filtrar las columnas para alinear los datos\n",
        "train_personas = train_personas[common_columns_personas] #filtrar las columnas para alinear los datos\n",
        "\n",
        "columnas_deseadas = ['id', 'Orden', 'Clase', 'Dominio', 'P6020', 'P6040', 'P6050', 'P6090', 'P6100',\n",
        "                     'P6210', 'P6210s1', 'P6240', 'Oficio', 'P6426', 'P6430', 'P6590', 'P6800',\n",
        "                     'P6870', 'P6920', 'P7090', 'P7110', 'P7120', 'P7350', 'P7495', 'P7510s5',\n",
        "                     'Pet', 'Oc', 'Des', 'Ina', 'Fex_c', 'Depto', 'Fex_dpto'] #datos mas relevantes\n",
        "\n",
        "train_personas = train_personas[columnas_deseadas]\n",
        "test_personas = test_personas[columnas_deseadas]"
      ],
      "metadata": {
        "id": "TYpkQplBdJmI"
      },
      "execution_count": 13,
      "outputs": []
    },
    {
      "cell_type": "code",
      "source": [
        "# Imputar datos falntantes\n",
        "\n",
        "# Crear imputadores\n",
        "imputador_moda = SimpleImputer(strategy='most_frequent')  # Para variables categóricas\n",
        "imputador_mediana = SimpleImputer(strategy='median')  # Para variables numéricas\n",
        "\n",
        "# Función para imputar datos\n",
        "def imputar_datos(df):\n",
        "    # Separar columnas numéricas y categóricas\n",
        "    columnas_numericas = df.select_dtypes(include=['number']).columns\n",
        "    columnas_categoricas = df.select_dtypes(exclude=['number']).columns\n",
        "\n",
        "    # Imputar numéricas con la mediana\n",
        "    if not columnas_numericas.empty:\n",
        "        df[columnas_numericas] = imputador_mediana.fit_transform(df[columnas_numericas])\n",
        "\n",
        "    # Imputar categóricas con la moda\n",
        "    if not columnas_categoricas.empty:\n",
        "        df[columnas_categoricas] = imputador_moda.fit_transform(df[columnas_categoricas])\n",
        "\n",
        "# Aplicar imputación a todos los DataFrames\n",
        "imputar_datos(test_hogares)\n",
        "imputar_datos(train_hogares)\n",
        "imputar_datos(test_personas)\n",
        "imputar_datos(train_personas)\n",
        "\n",
        "# Verificar si hay valores nulos restantes\n",
        "print(\"Valores nulos restantes:\")\n",
        "print(f\"test_hogares: {test_hogares.isnull().sum().sum()}\")\n",
        "print(f\"train_hogares: {train_hogares.isnull().sum().sum()}\")\n",
        "print(f\"test_personas: {test_personas.isnull().sum().sum()}\")\n",
        "print(f\"train_personas: {train_personas.isnull().sum().sum()}\")"
      ],
      "metadata": {
        "colab": {
          "base_uri": "https://localhost:8080/"
        },
        "id": "CHuhxWYguyJl",
        "outputId": "97234f2d-c9d1-40c4-b799-eedc6a147d90"
      },
      "execution_count": 15,
      "outputs": [
        {
          "output_type": "stream",
          "name": "stdout",
          "text": [
            "Valores nulos restantes:\n",
            "test_hogares: 0\n",
            "train_hogares: 0\n",
            "test_personas: 0\n",
            "train_personas: 0\n"
          ]
        }
      ]
    }
  ]
}